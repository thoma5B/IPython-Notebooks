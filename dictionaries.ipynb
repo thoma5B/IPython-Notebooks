{
 "cells": [
  {
   "cell_type": "code",
   "execution_count": 1,
   "metadata": {
    "collapsed": false
   },
   "outputs": [],
   "source": [
    "#from nested_dict import *\n",
    "from collections import defaultdict\n",
    "import numpy as p"
   ]
  },
  {
   "cell_type": "code",
   "execution_count": 3,
   "metadata": {
    "collapsed": false
   },
   "outputs": [
    {
     "data": {
      "text/plain": [
       "{'a': 1}"
      ]
     },
     "execution_count": 3,
     "metadata": {},
     "output_type": "execute_result"
    }
   ],
   "source": [
    "d={'a':2}\n",
    "d.update({'a':1})\n",
    "d"
   ]
  },
  {
   "cell_type": "code",
   "execution_count": null,
   "metadata": {
    "collapsed": true
   },
   "outputs": [],
   "source": []
  },
  {
   "cell_type": "code",
   "execution_count": 15,
   "metadata": {
    "collapsed": false
   },
   "outputs": [
    {
     "data": {
      "text/plain": [
       "collections.defaultdict"
      ]
     },
     "execution_count": 15,
     "metadata": {},
     "output_type": "execute_result"
    }
   ],
   "source": [
    "from collections import defaultdict\n",
    "\n",
    "# and then the miracle occurs:\n",
    "\n",
    "def make_dict(): \n",
    "    return defaultdict(make_dict)\n",
    "\n",
    "mydict = make_dict()\n",
    "\n",
    "mydict['coords'] = [(1,2),(3,4)]\n",
    "mydict['colors'] = ['blue', 'red']\n",
    "mydict['labels'] = ['A', 'B']\n",
    "\n",
    "type(mydict)"
   ]
  },
  {
   "cell_type": "code",
   "execution_count": 27,
   "metadata": {
    "collapsed": false
   },
   "outputs": [
    {
     "data": {
      "text/plain": [
       "defaultdict(<type 'list'>, {1: [0], 2: [0, 0], 3: [0, 0, 0]})"
      ]
     },
     "execution_count": 27,
     "metadata": {},
     "output_type": "execute_result"
    }
   ],
   "source": [
    "d = {1: [0], 2: [0,0], 3: [0,0,0]}\n",
    "#d[1].append(1)  # AttributeError: 'int' object has no attribute 'append'\n",
    "\n",
    "dd = defaultdict(list)\n",
    "for k, v in d.iteritems(): \n",
    "    for i in v:\n",
    "        dd[k].append(i)\n",
    "dd[1].append(2)\n",
    "dd[1].remove(2)\n",
    "dd"
   ]
  },
  {
   "cell_type": "code",
   "execution_count": 6,
   "metadata": {
    "collapsed": false
   },
   "outputs": [
    {
     "data": {
      "text/plain": [
       "{1: 1}"
      ]
     },
     "execution_count": 6,
     "metadata": {},
     "output_type": "execute_result"
    }
   ],
   "source": [
    "d = {}\n",
    "try: d[1] += 1\n",
    "except: d[1] = 1\n",
    "d"
   ]
  },
  {
   "cell_type": "code",
   "execution_count": null,
   "metadata": {
    "collapsed": false
   },
   "outputs": [],
   "source": [
    "meter_pow_list = [(1, 3.4),(1, 3.4),(2, 3.4),(2, 3.4),(3, 3.4),(4, 3.4)]\n",
    "\n",
    "factors = { 1: 10, 2: 20, 3:50, 4: 100 }\n",
    "\n",
    "\n",
    "def reduce_to_meters(meter_pow_list):\n",
    "    dd = {}\n",
    "    for meter, power in meter_pow_list: \n",
    "        try:dd[meter] += power\n",
    "        except: dd[meter] = power\n",
    "    return dd\n",
    "\n",
    "\n",
    "\n",
    "def reduce_to_weighted_sum(dd, factors):\n",
    "    weightedSum = 0\n",
    "    for key, val in dd.iteritems():\n",
    "        weightedSum += val*factors[key] \n",
    "    return weightedSum\n",
    "\n",
    "\n",
    "reduce_to_weighted_sum( reduce_to_meters( meter_pow_list), factors) # => 714.0"
   ]
  },
  {
   "cell_type": "code",
   "execution_count": 12,
   "metadata": {
    "collapsed": false
   },
   "outputs": [
    {
     "name": "stdout",
     "output_type": "stream",
     "text": [
      "['blue', 'red']\n"
     ]
    },
    {
     "data": {
      "text/plain": [
       "['&markers=color:blue%7Clabel:A%7C1,2', '&markers=color:red%7Clabel:A%7C1,2']"
      ]
     },
     "execution_count": 12,
     "metadata": {},
     "output_type": "execute_result"
    }
   ],
   "source": [
    "colors, labels, coords = mydict['colors'], mydict['labels'], mydict['coords']\n",
    "print colors\n",
    "['&markers=color:'+color+'%7Clabel:'+labels[0]+'%7C'+str(coords[0][0])+','+str(coords[0][1]) for color in colors]"
   ]
  },
  {
   "cell_type": "code",
   "execution_count": 2,
   "metadata": {
    "collapsed": false
   },
   "outputs": [
    {
     "data": {
      "text/plain": [
       "3.8078865529319543"
      ]
     },
     "execution_count": 2,
     "metadata": {},
     "output_type": "execute_result"
    }
   ],
   "source": [
    "from collections import namedtuple\n",
    "Point = namedtuple('Point', 'x y')\n",
    "pt1 = Point(1.0, 5.0)\n",
    "pt2 = Point(2.5, 1.5)\n",
    "\n",
    "from math import sqrt\n",
    "sqrt((pt1.x-pt2.x)**2 + (pt1.y-pt2.y)**2)"
   ]
  },
  {
   "cell_type": "code",
   "execution_count": 2,
   "metadata": {
    "collapsed": false
   },
   "outputs": [
    {
     "data": {
      "text/plain": [
       "{1: 3, 2: 4}"
      ]
     },
     "execution_count": 2,
     "metadata": {},
     "output_type": "execute_result"
    }
   ],
   "source": [
    "x =[1,2]\n",
    "y= [3,4]\n",
    "d = defaultdict(list)\n",
    "d =dict(zip(x,y))\n",
    "d"
   ]
  },
  {
   "cell_type": "code",
   "execution_count": 13,
   "metadata": {
    "collapsed": false
   },
   "outputs": [],
   "source": [
    "as_tuple = lambda C : tuple(tuple(C[i]) for i in range(3))\n",
    "\n",
    "#def hashable(C): \n",
    "#    if C.shape[1] > 1 :\n",
    "#        return tuple((hashable(C[i])) for i in range(C.shape[0]))\n",
    "#    else : return tuple(C)"
   ]
  },
  {
   "cell_type": "code",
   "execution_count": 14,
   "metadata": {
    "collapsed": false
   },
   "outputs": [
    {
     "data": {
      "text/plain": [
       "3916253770447430313"
      ]
     },
     "execution_count": 14,
     "metadata": {},
     "output_type": "execute_result"
    }
   ],
   "source": [
    "C=p.array([[0,2,1],[1,0,2],[1,2,0]])\n",
    "#tuple(tuple(C[i]) for i in len(C))\n",
    "#tuple(C[0])\n",
    "D=as_tuple(C)\n",
    "hash(D)"
   ]
  },
  {
   "cell_type": "code",
   "execution_count": 15,
   "metadata": {
    "collapsed": false
   },
   "outputs": [],
   "source": [
    "list_of_minimal_normal = [p.array([[0,2,1],[1,0,2],[1,2,0]]), \\\n",
    "                          p.array([[0,2,1],[1,0,2],[1,2,0]]), \\\n",
    "                          p.array([[0,3,2],[2,0,3],[2,3,0]])]\n",
    "list_of_indices = [(2,1), (3,1,4), (3,1,5)]\n",
    "\n",
    "#hashzip = lambda list_keys, list_values : dict(zip([to_hash(k) for k in list_keys], list_values))\n",
    "#same as\n",
    "#hashzip = lambda list_keys, list_values : dict(zip(imap(hashable, list_keys), list_values))\n",
    "\n",
    "#print hashzip(list_of_minimal_normal , list_of_indices).items()"
   ]
  },
  {
   "cell_type": "code",
   "execution_count": 20,
   "metadata": {
    "collapsed": false
   },
   "outputs": [
    {
     "name": "stdout",
     "output_type": "stream",
     "text": [
      "{((0, 2, 1), (1, 0, 2), (1, 2, 0)): [(2, 1), (3, 1, 4)], ((0, 3, 2), (2, 0, 3), (2, 3, 0)): [(3, 1, 5)]}\n"
     ]
    }
   ],
   "source": [
    "from itertools import *\n",
    "def defhashzip(list_keys, list_values):\n",
    "    d = defaultdict(list)\n",
    "    for (C, index) in zip(list_keys, list_values):\n",
    "        C_as_tuple = as_tuple(C)\n",
    "        #d.update({quasicone : index})\n",
    "        d[C_as_tuple].append(index) # quasicone must be hashable then\n",
    "    return d\n",
    "T = dict(defhashzip(list_of_minimal_normal , list_of_indices).items())\n",
    "#for k in T:\n",
    "#    print(k)\n",
    "print(T)"
   ]
  },
  {
   "cell_type": "code",
   "execution_count": 21,
   "metadata": {
    "collapsed": false
   },
   "outputs": [],
   "source": [
    "#%timeit hashzip(list_of_minimal_normal , list_of_indices)"
   ]
  },
  {
   "cell_type": "code",
   "execution_count": null,
   "metadata": {
    "collapsed": false
   },
   "outputs": [],
   "source": [
    "#%timeit defhashzip(list_of_minimal_normal , list_of_indices)"
   ]
  },
  {
   "cell_type": "code",
   "execution_count": 9,
   "metadata": {
    "collapsed": false
   },
   "outputs": [
    {
     "ename": "SyntaxError",
     "evalue": "invalid syntax (<ipython-input-9-3210647581b7>, line 3)",
     "output_type": "error",
     "traceback": [
      "\u001b[0;36m  File \u001b[0;32m\"<ipython-input-9-3210647581b7>\"\u001b[0;36m, line \u001b[0;32m3\u001b[0m\n\u001b[0;31m    == {_Gap.get(i, 0) : index for index in subdiag_indices_iter(i,j)}\u001b[0m\n\u001b[0m     ^\u001b[0m\n\u001b[0;31mSyntaxError\u001b[0m\u001b[0;31m:\u001b[0m invalid syntax\n"
     ]
    }
   ],
   "source": [
    "i, j = 2, 0\n",
    "zip(*(_Gap.get(i, 0) for i in subdiag_indices_iter(i,j)))\n",
    "== {_Gap.get(i, 0) : index for index in subdiag_indices_iter(i,j)}"
   ]
  },
  {
   "cell_type": "code",
   "execution_count": 21,
   "metadata": {
    "collapsed": false
   },
   "outputs": [
    {
     "name": "stdout",
     "output_type": "stream",
     "text": [
      "[[0 2 1]\n",
      " [1 0 2]\n",
      " [1 2 0]]  -->  [(2, 1), (3, 1, 4)]\n",
      "[[0 3 2]\n",
      " [2 0 3]\n",
      " [2 3 0]]  -->  [(3, 1, 5)]\n"
     ]
    }
   ],
   "source": [
    "for C, index_list in T.iteritems():\n",
    "    print p.array(C), \" --> \",index_list\n"
   ]
  },
  {
   "cell_type": "code",
   "execution_count": 18,
   "metadata": {
    "collapsed": false
   },
   "outputs": [
    {
     "name": "stdout",
     "output_type": "stream",
     "text": [
      "[(((0, 2, 1), (1, 0, 2), (1, 2, 0)), [(2, 1)]), (((0, 3, 2), (2, 0, 3), (2, 3, 0)), [])]\n"
     ]
    }
   ],
   "source": [
    "for k, index_list in T.items():\n",
    "    for i, index in enumerate(index_list):\n",
    "        if index[0] == 3:\n",
    "            del index_list[i\n",
    "print T.items()"
   ]
  },
  {
   "cell_type": "code",
   "execution_count": 23,
   "metadata": {
    "collapsed": false
   },
   "outputs": [
    {
     "name": "stdout",
     "output_type": "stream",
     "text": [
      "[(((0, 2, 1), (1, 0, 2), (1, 2, 0)), [True, (2, 1), (3, 1, 4)]), (((0, 3, 2), (2, 0, 3), (2, 3, 0)), [True, (3, 1, 5)])]\n"
     ]
    }
   ],
   "source": [
    "for C in T.keys():\n",
    "    T[C].insert(0, True)\n",
    "print T.items()"
   ]
  },
  {
   "cell_type": "code",
   "execution_count": 31,
   "metadata": {
    "collapsed": false
   },
   "outputs": [
    {
     "name": "stdout",
     "output_type": "stream",
     "text": [
      "3 [1, 2, 3, 4, 5]\n"
     ]
    }
   ],
   "source": [
    "from collections import deque\n",
    "\n",
    "list1 = [1,2,3,4,5]\n",
    "newlist = deque(list1)\n",
    "newlist.append(6)\n",
    "print newlist[2], list1"
   ]
  },
  {
   "cell_type": "code",
   "execution_count": 57,
   "metadata": {
    "collapsed": false
   },
   "outputs": [
    {
     "name": "stdout",
     "output_type": "stream",
     "text": [
      "[0, 0, 0, 0, 0, 0]\n",
      "False\n"
     ]
    }
   ],
   "source": [
    "list0 =[0,0,0,0,0,0]\n",
    "print list0 \n",
    "print any(list0)"
   ]
  },
  {
   "cell_type": "code",
   "execution_count": 36,
   "metadata": {
    "collapsed": false
   },
   "outputs": [
    {
     "name": "stdout",
     "output_type": "stream",
     "text": [
      "10000000 loops, best of 3: 71.9 ns per loop\n"
     ]
    }
   ],
   "source": [
    "%timeit x = list1[0] = 0"
   ]
  },
  {
   "cell_type": "code",
   "execution_count": 24,
   "metadata": {
    "collapsed": false
   },
   "outputs": [
    {
     "ename": "IndentationError",
     "evalue": "unexpected indent (<ipython-input-24-f96608432bab>, line 6)",
     "output_type": "error",
     "traceback": [
      "\u001b[0;36m  File \u001b[0;32m\"<ipython-input-24-f96608432bab>\"\u001b[0;36m, line \u001b[0;32m6\u001b[0m\n\u001b[0;31m    if  raw_input(\"ENTER to continue\") == '':\u001b[0m\n\u001b[0m    ^\u001b[0m\n\u001b[0;31mIndentationError\u001b[0m\u001b[0;31m:\u001b[0m unexpected indent\n"
     ]
    }
   ],
   "source": [
    "counter = 0\n",
    "#while True:\n",
    "#    counter += 1\n",
    "#    print \"1\"\n",
    "#    if counter == 4 :\n",
    "        if  raw_input(\"ENTER to continue\") == '':\n",
    "            counter = 0\n",
    "            continue\n",
    "        else: \n",
    "            print \"ende\"\n",
    "            break\n"
   ]
  },
  {
   "cell_type": "code",
   "execution_count": 11,
   "metadata": {
    "collapsed": false
   },
   "outputs": [
    {
     "name": "stdout",
     "output_type": "stream",
     "text": [
      "[0, 1, 2, 3, 0]\n",
      "[0, 1, 2, 3, 1]\n",
      "[0, 1, 2, 3, 2]\n",
      "[0, 1, 2, 3, 3]\n",
      "[0, 1, 2, 3, 4]\n"
     ]
    }
   ],
   "source": [
    "l=range(5)\n",
    "las = l[-1]\n",
    "for i in range(las +1):\n",
    "    l[-1] = i\n",
    "    print str(l)\n"
   ]
  },
  {
   "cell_type": "code",
   "execution_count": 27,
   "metadata": {
    "collapsed": false
   },
   "outputs": [
    {
     "name": "stdout",
     "output_type": "stream",
     "text": [
      "/home/thomas/Documents/Doctoral_Thesis/Python\n"
     ]
    }
   ],
   "source": [
    "cd Documents/Doctoral_Thesis/Python\n"
   ]
  },
  {
   "cell_type": "code",
   "execution_count": 70,
   "metadata": {
    "collapsed": false
   },
   "outputs": [],
   "source": [
    "import pickle\n",
    "inputfile = \"tree_for_graph_r4\"\n",
    "with open(inputfile, \"r\") as file: Tree = pickle.load(file)\n",
    "#print type(Tree)\n",
    "#from Tree_to_TikZ_Graph import *\n",
    "#Output_as_Graph(Tree_to_TeX(Tree))"
   ]
  },
  {
   "cell_type": "code",
   "execution_count": 34,
   "metadata": {
    "collapsed": false
   },
   "outputs": [
    {
     "name": "stdout",
     "output_type": "stream",
     "text": [
      "49\n"
     ]
    }
   ],
   "source": [
    "total = 100\n",
    "list1 = [3, 4]   \n",
    "\n",
    "\n",
    "result = 0\n",
    "for i in range(1,total):\n",
    "    for val in list1:\n",
    "        if i % val == 0:\n",
    "            result +=1\n",
    "            break # break the inner loop\n",
    "print result\n",
    "\n",
    "\n",
    "'''For a list like \n",
    "\n",
    "    list1 = [5, 7, 15, 21, 44, 39, 91] \n",
    "\n",
    "I would reduce 15 and 21'''"
   ]
  },
  {
   "cell_type": "code",
   "execution_count": null,
   "metadata": {
    "collapsed": false
   },
   "outputs": [],
   "source": []
  },
  {
   "cell_type": "raw",
   "metadata": {
    "collapsed": false
   },
   "source": [
    "total_index_list=[]\n",
    "for C, index_list in Tree.iteritems():\n",
    "        #print \"index_list \", index_list\n",
    "        try : color = index_list.pop(0)\n",
    "        except IndexError: continue\n",
    "        for tree_index in index_list:\n",
    "            total_index_list.append(tree_index)\n",
    "\n",
    "total_index_list.sort(key=len)\n",
    "#while total_index_list:\n",
    "#        dest = total_index_list.pop()\n",
    "#        orig = dest[:-1] \n",
    "#        #if orig: print total_index_list.index(orig)\n",
    "#        if not orig: \n",
    "#            continue\n",
    "#        if orig not in total_index_list: \n",
    "#            #print orig, \"-->\", total_index_list\n",
    "#            continue\n",
    "#        if type(Tree[C][0]) == int:\n",
    "#            data_string += \"\\draw[red] (\"+str(orig)+\") -- (\"+str(dest)+\");\"\n",
    "#        else:\n",
    "#        print \"\\\\draw[thin] (\", orig, \") -- (\",dest,\"); \\n\"\n",
    "print total_index_list\n",
    "\n",
    "\n"
   ]
  },
  {
   "cell_type": "code",
   "execution_count": 31,
   "metadata": {
    "collapsed": false
   },
   "outputs": [
    {
     "name": "stdout",
     "output_type": "stream",
     "text": [
      "['BM1', 17]\n",
      "correct\n",
      "wrong\n",
      "wrong\n",
      "wrong\n",
      "['GM2', 46]\n",
      "correct\n",
      "wrong\n"
     ]
    }
   ],
   "source": [
    "dictionary={'sca4': [['BM1', 17], ['BM2', 33]], 'sca6': [['GM2', 46], ['GM2', 67]]}\n",
    "textfile = '''\n",
    "sca4 15 25\n",
    "sca4 20 32\n",
    "sca6 45 62\n",
    "'''\n",
    "\n",
    "col1, col2, col3 = [],[],[]\n",
    "for i, line in enumerate(textfile.split(\"\\n\")):\n",
    "    if not line.strip():\n",
    "        continue\n",
    "    line_as_list = line.strip().split(\" \")\n",
    "    col1.append(line_as_list[0]), col2.append(line_as_list[1]), col3.append(line_as_list[-1])\n",
    "    \n",
    "def multiples_removed( oldlist):\n",
    "    newlist = []\n",
    "    prev = None\n",
    "    for el in oldlist:\n",
    "        if el != prev: newlist.append(el)\n",
    "        prev = el\n",
    "    return newlist\n",
    "\n",
    "col1 = multiples_removed(col1)\n",
    "\n",
    "for specifier in col1:\n",
    "    is_valid = \"wrong\"\n",
    "    for value_list in dictionary.get(col1, [[]]):\n",
    "        if int(col2) <= value_list[1] <= int(col3):\n",
    "            print value_list\n",
    "            print \"correct\"\n",
    "        else:\n",
    "            print is_valid"
   ]
  },
  {
   "cell_type": "code",
   "execution_count": 61,
   "metadata": {
    "collapsed": false
   },
   "outputs": [
    {
     "name": "stdout",
     "output_type": "stream",
     "text": [
      "10 loops, best of 3: 67.5 ms per loop\n",
      "10 loops, best of 3: 51.9 ms per loop\n"
     ]
    }
   ],
   "source": [
    "#my original question was devoted to the fact that the vectorization is doing an internal type-cast and how much this would affect performance. So here is the answer:\n",
    "#    It does, but not with only <23% not the considerabel effect I supposed.\n",
    "\n",
    "\n",
    "#y = np.int_([1,2,4])\n",
    "\n",
    "import numpy as np\n",
    "\n",
    "def triv(a, b): return tuple([a, b])\n",
    "\n",
    "triv_vec = np.vectorize(triv, otypes = [np.int, np.int])\n",
    "\n",
    "v1 = np.random.random_integers(-5, high = 5, size = 100000)\n",
    "v2 = np.random.random_integers(-5, high = 5, size = 100000)\n",
    "\n",
    "%timeit [tuple([i,j]) for i,j in zip(v1,v2)] # ~ 596 µs per loop\n",
    "\n",
    "%timeit triv_vec(v1, v2) # ~ 544 µs per loop\n",
    "\n",
    "#%timeit map(triv, v1, v2) # ~ 64.4 ms per loop\n"
   ]
  },
  {
   "cell_type": "code",
   "execution_count": 117,
   "metadata": {
    "collapsed": false
   },
   "outputs": [
    {
     "name": "stdout",
     "output_type": "stream",
     "text": [
      "0 2 1.0\n",
      "1.0 2 1.5\n",
      "1.0 1.5 1.25\n",
      "1.0 1.25 1.125\n",
      "1.0 1.125 1.0625\n",
      "1.0 1.0625 1.03125\n",
      "1.03125 1.0625 1.046875\n",
      "1.03125 1.046875 1.0390625\n",
      "1.0390625 1.046875 1.04296875\n",
      "1.04296875 1.046875 1.044921875\n",
      "1.044921875 1.046875 1.0458984375\n",
      "1.0458984375 1.046875 1.04638671875\n",
      "1.04638671875 1.046875 1.04663085938\n",
      "1.04663085938 1.046875 1.04675292969\n",
      "1.04663085938 1.04675292969 1.04669189453\n",
      "1.04663085938 1.04669189453 1.04666137695\n",
      "1.04666137695 1.04669189453 1.04667663574\n",
      "1.04667663574 1.04669189453 1.04668426514\n",
      "1.04667663574 1.04668426514 1.04668045044\n",
      "1.04668045044 1.04668426514 1.04668235779\n",
      "1.04668045044 1.04668235779 1.04668140411\n",
      "1.04668045044 1.04668140411 1.04668092728\n",
      "1.04668045044 1.04668092728 1.04668068886\n",
      "1.04668045044 1.04668068886 1.04668056965\n",
      "1.04668045044 1.04668056965 1.04668051004\n",
      "1.04668051004 1.04668056965 1.04668053985\n",
      "1.04668051004 1.04668053985 1.04668052495\n",
      "1.04668052495 1.04668053985 1.0466805324\n",
      "root =  1.0466805324 error = "
     ]
    },
    {
     "ename": "TypeError",
     "evalue": "'float' object has no attribute '__getitem__'",
     "output_type": "error",
     "traceback": [
      "\u001b[1;31m---------------------------------------------------------------------------\u001b[0m",
      "\u001b[1;31mTypeError\u001b[0m                                 Traceback (most recent call last)",
      "\u001b[1;32m<ipython-input-117-72456f9b85d0>\u001b[0m in \u001b[0;36m<module>\u001b[1;34m()\u001b[0m\n\u001b[0;32m     17\u001b[0m \u001b[0mfnc\u001b[0m \u001b[1;33m=\u001b[0m \u001b[1;32mlambda\u001b[0m \u001b[0mx\u001b[0m \u001b[1;33m:\u001b[0m \u001b[0mx\u001b[0m\u001b[1;33m**\u001b[0m\u001b[1;36m3\u001b[0m\u001b[1;33m-\u001b[0m\u001b[0mx\u001b[0m\u001b[1;33m-\u001b[0m\u001b[1;36m0.1\u001b[0m\u001b[1;33m\u001b[0m\u001b[0m\n\u001b[0;32m     18\u001b[0m \u001b[0mresult\u001b[0m \u001b[1;33m=\u001b[0m \u001b[0mroot\u001b[0m\u001b[1;33m(\u001b[0m\u001b[0mfnc\u001b[0m\u001b[1;33m,\u001b[0m \u001b[1;36m0\u001b[0m\u001b[1;33m,\u001b[0m \u001b[1;36m2\u001b[0m\u001b[1;33m)\u001b[0m\u001b[1;33m\u001b[0m\u001b[0m\n\u001b[1;32m---> 19\u001b[1;33m \u001b[1;32mprint\u001b[0m \u001b[1;34m\"root = \"\u001b[0m\u001b[1;33m,\u001b[0m \u001b[0mresult\u001b[0m\u001b[1;33m,\u001b[0m \u001b[1;34m\"error = \"\u001b[0m\u001b[1;33m,\u001b[0m \u001b[0mresult\u001b[0m\u001b[1;33m[\u001b[0m\u001b[1;36m1\u001b[0m\u001b[1;33m]\u001b[0m \u001b[1;31m#print fnc.counter, fnc.maxtimes\u001b[0m\u001b[1;33m\u001b[0m\u001b[0m\n\u001b[0m\u001b[0;32m     20\u001b[0m \u001b[1;33m\u001b[0m\u001b[0m\n\u001b[0;32m     21\u001b[0m \u001b[1;31m#import numpy\u001b[0m\u001b[1;33m\u001b[0m\u001b[1;33m\u001b[0m\u001b[0m\n",
      "\u001b[1;31mTypeError\u001b[0m: 'float' object has no attribute '__getitem__'"
     ]
    }
   ],
   "source": [
    "import math\n",
    "\n",
    "  \n",
    "def root(fnc, a, b, eps = 1e-8, maxtimes = None):\n",
    "    if maxtimes == None: maxtimes = (int)(0.1+math.ceil(math.log((b-a)/eps, 2.0)+2))\n",
    "    for counter in xrange(maxtimes+1) : # a was assumed negative and b positive\n",
    "        if fnc(a) > -eps : return a\n",
    "        if fnc(b) < eps : return b\n",
    "        new_bound = (a + b)/2.0\n",
    "        print a, b, new_bound\n",
    "        if fnc(new_bound) < 0 : a = new_bound\n",
    "        else : b = new_bound\n",
    "    return tuple([new_bound, min(-fnc(a),fnc(b))])\n",
    "            \n",
    "\n",
    "\n",
    "fnc = lambda x : x**3-x-0.1\n",
    "result = root(fnc, 0, 2)\n",
    "print \"root = \", result, \"error = \", result[1] #print fnc.counter, fnc.maxtimes\n",
    "\n",
    "#import numpy\n",
    "#[x*x*x-x-0.1 for x in numpy.arange(0, 2, 0.2)]"
   ]
  },
  {
   "cell_type": "code",
   "execution_count": 51,
   "metadata": {
    "collapsed": false
   },
   "outputs": [
    {
     "name": "stdout",
     "output_type": "stream",
     "text": [
      "1\n",
      "1\n",
      "1\n",
      "3\n",
      "3\n",
      "3\n",
      "5\n",
      "5\n",
      "5\n"
     ]
    },
    {
     "data": {
      "text/plain": [
       "[1, 3, 5]"
      ]
     },
     "execution_count": 51,
     "metadata": {},
     "output_type": "execute_result"
    }
   ],
   "source": [
    "l = [1,1,1,3,3,3,5,5,5]\n",
    "\n",
    "def multiples_removed( oldlist):\n",
    "    newlist = []\n",
    "    prev = None\n",
    "    for el in oldlist:\n",
    "        if el != prev: newlist.append(el)\n",
    "        prev = el\n",
    "    return newlist\n",
    "\n",
    "multiples_removed(l)"
   ]
  },
  {
   "cell_type": "code",
   "execution_count": 14,
   "metadata": {
    "collapsed": false
   },
   "outputs": [
    {
     "data": {
      "text/plain": [
       "['sca4', 'sca4', 'sca6']"
      ]
     },
     "execution_count": 14,
     "metadata": {},
     "output_type": "execute_result"
    }
   ],
   "source": [
    "col1, col2, col3 = [],[],[]\n",
    "for i, line in enumerate(textfile.split(\"\\n\")):\n",
    "    if not line.strip():\n",
    "        continue\n",
    "    line_as_list = line.strip().split(\" \")\n",
    "    col1.append(line_as_list[0]), col2.append(line_as_list[1]), col3.append(line_as_list[-1])\n",
    "#    col1, col2, col3 = line.strip().split(\" \")\n",
    "    \n",
    "for value_list in dictionary.get(col1, []):\n",
    "    \n",
    "    for el2, el3 in zip(col2,col3):\n",
    "        if int(el2) <= value_list[1] <= int(el3):\n",
    "            print \"correct\"\n",
    "        else:\n",
    "            print \"wrong\""
   ]
  },
  {
   "cell_type": "code",
   "execution_count": 13,
   "metadata": {
    "collapsed": false
   },
   "outputs": [
    {
     "name": "stdout",
     "output_type": "stream",
     "text": [
      "[ 1  0  0  0  0  0  1 -1  0  0  0  0  1  0  0  0  0  0  0  0  0  1 -1  0  0\n",
      "  1  0  1 -1  0  0  0  0  0  0  0  0  1  0  0  0  0  0  0  0  1  0 -1  0  0\n",
      "  1  1  0 -1  0  0  0  0  0  0  0  0  1  0  0  0  1  0 -1  0  0  0  0  0  0\n",
      "  1  0  0 -1  1  0  0  0  0  0  0  0  1  0  0  0  0  0 -1  1  0  1 -1  0  0\n",
      "  1  0  0  0  0  0  0  0  0  0  0  0  1  0  0  0  0  0  1 -1  1  0 -1  0  0\n",
      "  1  0  0  0  0  0  0  0  0  0  0  0  1  0  1 -1  0  0  0  0  0  0 -1  1  0\n",
      "  1  0  0  0  0  0  0  0  0  0  0  0  1  0  0 -1  0  1 -1  1  0  0  0  0  0\n",
      "  1  0  0  0  0  0  0  0  0  0  0  0  1  0  0 -1  1  0  1 -1  0  0  0  0  0\n",
      "  1  0  0  0  0  0  0  0  1 -1  0  0  1  0  0  0  0  0  0 -1  0  1  0  0  0\n",
      "  1  0  0  0  0  0  0  0  0 -1  0  1  1  0  0 -1  0  1  0  0  0  0  0  0  0\n",
      "  1  0  0  0  0  0  0  0  0 -1  1  0  1  0  0 -1  1  0  0  0  0  0  0  0  0\n",
      "  1  0  0  0  0 -1  1  0  0  0  0  0  1]\n"
     ]
    }
   ],
   "source": [
    "import numpy as p\n",
    "from collections import defaultdict\n",
    "from itertools import *\n",
    "n = 3\n",
    "ColumnIndexList = list(permutations( range(n+1), 2))\n",
    "RowIndexList    = list(permutations( range(n+1), 3))\n",
    "q = (n+2)*(n+1)\n",
    "A = defaultdict(int)\n",
    "A = A.fromkeys(product(RowIndexList, ColumnIndexList), 0)\n",
    "for RowIndex in RowIndexList:\n",
    "    A[tuple([RowIndex, tuple([RowIndex[i] for i in [0,1]])])] = 1\n",
    "    A[tuple([RowIndex, tuple([RowIndex[i] for i in [2,0]])])] = 1\n",
    "    A[tuple([RowIndex, tuple([RowIndex[i] for i in [2,1]])])] = -1\n",
    "#print A\n",
    "B = p.array([A[tuple([i,j])] for i,j in product(RowIndexList, ColumnIndexList)])\n",
    "print B"
   ]
  },
  {
   "cell_type": "code",
   "execution_count": 6,
   "metadata": {
    "collapsed": false
   },
   "outputs": [
    {
     "data": {
      "text/plain": [
       "array(None, dtype=object)"
      ]
     },
     "execution_count": 6,
     "metadata": {},
     "output_type": "execute_result"
    }
   ],
   "source": []
  }
 ],
 "metadata": {
  "kernelspec": {
   "display_name": "Python 2",
   "language": "python",
   "name": "python2"
  },
  "language_info": {
   "codemirror_mode": {
    "name": "ipython",
    "version": 2
   },
   "file_extension": ".py",
   "mimetype": "text/x-python",
   "name": "python",
   "nbconvert_exporter": "python",
   "pygments_lexer": "ipython2",
   "version": "2.7.5+"
  }
 },
 "nbformat": 4,
 "nbformat_minor": 0
}

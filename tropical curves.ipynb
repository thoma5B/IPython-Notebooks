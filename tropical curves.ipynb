{
 "cells": [
  {
   "cell_type": "code",
   "execution_count": 5,
   "metadata": {
    "collapsed": true
   },
   "outputs": [],
   "source": [
    "import pylab as p\n",
    "import numpy as np\n",
    "from itertools import product\n",
    "\n",
    "def max_dot_monomials(a,b):\n",
    "    c = p.empty_like(a)\n",
    "    A = range(a.ndim)\n",
    "    for i,j in product(A, A):\n",
    "        c[i,j] = p.array( a[i,:]).flatten() + p.array( b[:,j]).flatten()\n",
    "    return c\n",
    "\n",
    "\n",
    "def maxdot(a,b):\n",
    "    \"\"\"currently only square matrices a,b are supported\"\"\"\n",
    "    c = p.empty_like(a)\n",
    "    A = range(a.ndim)\n",
    "    for i,j in product(A, A):\n",
    "        c[i,j] = max(p.array( a[i,:]).flatten() + p.array( b[:,j]).flatten())\n",
    "    return c\n",
    "\n",
    "def mindot(a,b):\n",
    "    c = p.empty_like(a)\n",
    "    A = range(a.ndim)\n",
    "    for i,j in product(A, A):\n",
    "        c[i,j] = min(p.array( a[i,:]).flatten() + p.array( b[:,j]).flatten())\n",
    "    return c\n",
    "\n",
    "def test():\n",
    "    x,y,z,w = 1,2,3,4\n",
    "    a = p.matrix([[x,y],[z,w]])\n",
    "    return mindot(a,a)\n",
    "\n",
    "# print test()"
   ]
  },
  {
   "cell_type": "code",
   "execution_count": 16,
   "metadata": {
    "collapsed": false
   },
   "outputs": [
    {
     "name": "stdout",
     "output_type": "stream",
     "text": [
      "4\n"
     ]
    }
   ],
   "source": [
    "def nullstellen(a, ll, ru, eps = 10e-1):\n",
    "    \"\"\"\n",
    "    compute zeros of the partially linear (matrix) function 'a' \n",
    "    heuristic simply looks for sufficiently small function values (< eps) and takes them as zero\n",
    "    :arg a: function a:RR^3 -> RR^n where the image can be a matrix or vector (tested for type 'numpy.array')\n",
    "    :param ll: lower left coordinates (x_0, y_0)\n",
    "    :param ru: right upper coordinates (x_1, y_1)\n",
    "    :param eps: accuracy of the computation\n",
    "    \"\"\"\n",
    "    z_res = p.arange(-1+eps/2,1,eps) # +eps/2 to get also zeros right\n",
    "    X, Y = p.mgrid[ll[0]:ru[0]:eps, ll[1]:ru[1]:eps]\n",
    "    Z = []\n",
    "    Z.append( p.zeros_like(X) )\n",
    "    #print Z\n",
    "    for (i, x), (j, y), z in product( enumerate(X[:,0]), enumerate(Y[0,:]), z_res):\n",
    "        if a(x,y,z).all() < eps:   # all to get intersection of all equations\n",
    "            all_occupied = False\n",
    "            for k in range(len(Z)):\n",
    "                if Z[k][i,j] != 0:\n",
    "                    all_occupied = True\n",
    "                else: \n",
    "                    Z[k][i,j] = z\n",
    "                    all_occupied = False\n",
    "                    break\n",
    "            if all_occupied:\n",
    "                Z.append( p.zeros_like(X) )\n",
    "                Z[k+1][i,j] = z\n",
    "    return X,Y,Z\n",
    "\n",
    "def make_plot():\n",
    "    X, Y, Z = nullstellen(b, ll = (-1,-1), ru = (3,3), eps = 5*10e-2)\n",
    "    fig = p.figure()\n",
    "    ax = fig.add_subplot(1,1,1, projection='3d')\n",
    "    print len(Z) # 4 layers\n",
    "    for k in range(len(Z)):\n",
    "        surf = ax.plot_surface(X,Y,Z[k])\n",
    "    p.show()\n",
    "\n",
    "make_plot()"
   ]
  },
  {
   "cell_type": "code",
   "execution_count": 6,
   "metadata": {
    "collapsed": false
   },
   "outputs": [],
   "source": [
    "def randrange(n, vmin, vmax):\n",
    "    return (vmax-vmin)*np.random.rand(n) + vmin\n",
    "\n",
    "def randiter(n, vmin, vmax):\n",
    "    for x in (vmax-vmin)*np.random.rand(n) + vmin:\n",
    "        yield x\n",
    "\n",
    "\n",
    "def nullstellen(a, ll, ru, eps = 10e-1):\n",
    "    \"\"\"\n",
    "    compute zeros of the partially linear (matrix) function 'a' \n",
    "    heuristic simply looks for sufficiently small function values (< eps) and takes them as zero\n",
    "    :arg a: function a:RR^3 -> RR^n where the image can be a matrix or vector (tested for type 'numpy.array')\n",
    "    :param ll: lower left coordinates (x_0, y_0)\n",
    "    :param ru: right upper coordinates (x_1, y_1)\n",
    "    :param eps: accuracy of the computation\n",
    "    \"\"\"\n",
    "    n = int(1/eps)\n",
    "    z_res = randiter(n, ll[0],ru[0])\n",
    "    xs = randrange(n, ll[0],ru[0])\n",
    "    ys = randrange(n, ll[1],ru[1])\n",
    "    zs = p.zeros_like(xs)\n",
    "    #print Z\n",
    "    for i, x, y in zip(range(n), xs, ys):\n",
    "        #print i,j\n",
    "        for z in z_res:\n",
    "            if a(x,y,z).all() < eps:   # all to get intersection of all equations\n",
    "                zs[i] = z\n",
    "                break\n",
    "    return xs,ys,zs"
   ]
  },
  {
   "cell_type": "code",
   "execution_count": null,
   "metadata": {
    "collapsed": true
   },
   "outputs": [],
   "source": [
    "a = lambda x,y,z: p.matrix([[x,y],[z,0]])\n",
    "b = lambda x,y,z: max_dot_monomials(a(x,y,z),a(x,y,z)) - a(x,y,z)\n",
    "\n",
    "\n",
    "def tropical_hypersurface(b, ll, ru, eps = 10e-1):\n",
    "    \"\"\"\n",
    "    compute points in the (matrix) function 'a' where maximum is attained at least twice\n",
    "    \n",
    "    :arg a: function a:RR^3 -> (RR^k)^n matrix or vector of list of tropical monomials\n",
    "    :param ll: lower left coordinates (x_0, y_0)\n",
    "    :param ru: right upper coordinates (x_1, y_1)\n",
    "    :param eps: accuracy of the computation\n",
    "    \"\"\"\n",
    "    z_res = p.arange(-1,1,eps)\n",
    "    X, Y = p.mgrid[ll[0]:ru[0]:eps, ll[1]:ru[1]:eps]\n",
    "    Z = p.zeros_like(X)\n",
    "    #print Z\n",
    "    for (i, x), (j, y), z in product( enumerate(X[:,0]), enumerate(Y[0,:]), z_res):\n",
    "        #print i,j\n",
    "        \n",
    "        for z in z_res:\n",
    "            for a in a(x,y,z).flatten():\n",
    "                max_ = a(x,y,z) # .all()   # maximum is attained at least twice\n",
    "                if min(z - max_) < eps:\n",
    "                    Z[i,j] = z\n",
    "\n",
    "xs, ys, zs = tropical_hypersurface(b, ll = (-1,-1), ru = (5,5), eps = 10e-5)\n",
    "                    "
   ]
  },
  {
   "cell_type": "code",
   "execution_count": null,
   "metadata": {
    "collapsed": false
   },
   "outputs": [],
   "source": []
  },
  {
   "cell_type": "code",
   "execution_count": 7,
   "metadata": {
    "collapsed": false
   },
   "outputs": [],
   "source": [
    "from mpl_toolkits.mplot3d import Axes3D\n",
    "\n",
    "a = lambda x,y,z: p.matrix([[x,y],[z,0]])\n",
    "b = lambda x,y,z: maxdot(a(x,y,z),a(x,y,z)) - a(x,y,z)\n",
    "\n",
    "#interval = p.linspace(0,1,10)\n",
    "\n",
    "xs, ys, zs = nullstellen(b, ll = (-1,-1), ru = (5,5), eps = 10e-5)\n",
    "fig = p.figure()\n",
    "ax = fig.add_subplot(1,1,1, projection='3d')\n",
    "ax.scatter(xs, ys, zs)\n",
    "#ax.set_xlabel('X Label')\n",
    "#ax.set_ylabel('Y Label')\n",
    "#ax.set_zlabel('Z Label')\n",
    "\n",
    "p.show()"
   ]
  },
  {
   "cell_type": "code",
   "execution_count": 121,
   "metadata": {
    "collapsed": false
   },
   "outputs": [
    {
     "data": {
      "text/plain": [
       "array([ 0.70010497,  0.58377023,  0.16957092,  0.09749866,  0.73008557])"
      ]
     },
     "execution_count": 121,
     "metadata": {},
     "output_type": "execute_result"
    }
   ],
   "source": [
    "np.random.rand(5)"
   ]
  },
  {
   "cell_type": "code",
   "execution_count": 20,
   "metadata": {
    "collapsed": false
   },
   "outputs": [
    {
     "ename": "AttributeError",
     "evalue": "'numpy.ndarray' object has no attribute 'step'",
     "output_type": "error",
     "traceback": [
      "\u001b[1;31m---------------------------------------------------------------------------\u001b[0m",
      "\u001b[1;31mAttributeError\u001b[0m                            Traceback (most recent call last)",
      "\u001b[1;32m<ipython-input-20-5ea735c9e408>\u001b[0m in \u001b[0;36m<module>\u001b[1;34m()\u001b[0m\n\u001b[0;32m      2\u001b[0m \u001b[0my_res\u001b[0m \u001b[1;33m=\u001b[0m \u001b[0mp\u001b[0m\u001b[1;33m.\u001b[0m\u001b[0marange\u001b[0m\u001b[1;33m(\u001b[0m \u001b[1;36m0\u001b[0m\u001b[1;33m,\u001b[0m\u001b[1;36m1\u001b[0m\u001b[1;33m,\u001b[0m \u001b[1;36m0.1\u001b[0m\u001b[1;33m)\u001b[0m\u001b[1;33m\u001b[0m\u001b[0m\n\u001b[0;32m      3\u001b[0m \u001b[1;31m#z_res = p.arange(-1,1,eps)\u001b[0m\u001b[1;33m\u001b[0m\u001b[1;33m\u001b[0m\u001b[0m\n\u001b[1;32m----> 4\u001b[1;33m \u001b[0mgrid\u001b[0m \u001b[1;33m=\u001b[0m \u001b[0mp\u001b[0m\u001b[1;33m.\u001b[0m\u001b[0mmgrid\u001b[0m\u001b[1;33m[\u001b[0m\u001b[0mx_res\u001b[0m\u001b[1;33m,\u001b[0m \u001b[0my_res\u001b[0m\u001b[1;33m]\u001b[0m\u001b[1;33m\u001b[0m\u001b[0m\n\u001b[0m",
      "\u001b[1;32m/usr/lib/pymodules/python2.7/numpy/lib/index_tricks.pyc\u001b[0m in \u001b[0;36m__getitem__\u001b[1;34m(self, key)\u001b[0m\n\u001b[0;32m    147\u001b[0m             \u001b[0mtyp\u001b[0m \u001b[1;33m=\u001b[0m \u001b[0mint\u001b[0m\u001b[1;33m\u001b[0m\u001b[0m\n\u001b[0;32m    148\u001b[0m             \u001b[1;32mfor\u001b[0m \u001b[0mk\u001b[0m \u001b[1;32min\u001b[0m \u001b[0mrange\u001b[0m\u001b[1;33m(\u001b[0m\u001b[0mlen\u001b[0m\u001b[1;33m(\u001b[0m\u001b[0mkey\u001b[0m\u001b[1;33m)\u001b[0m\u001b[1;33m)\u001b[0m\u001b[1;33m:\u001b[0m\u001b[1;33m\u001b[0m\u001b[0m\n\u001b[1;32m--> 149\u001b[1;33m                 \u001b[0mstep\u001b[0m \u001b[1;33m=\u001b[0m \u001b[0mkey\u001b[0m\u001b[1;33m[\u001b[0m\u001b[0mk\u001b[0m\u001b[1;33m]\u001b[0m\u001b[1;33m.\u001b[0m\u001b[0mstep\u001b[0m\u001b[1;33m\u001b[0m\u001b[0m\n\u001b[0m\u001b[0;32m    150\u001b[0m                 \u001b[0mstart\u001b[0m \u001b[1;33m=\u001b[0m \u001b[0mkey\u001b[0m\u001b[1;33m[\u001b[0m\u001b[0mk\u001b[0m\u001b[1;33m]\u001b[0m\u001b[1;33m.\u001b[0m\u001b[0mstart\u001b[0m\u001b[1;33m\u001b[0m\u001b[0m\n\u001b[0;32m    151\u001b[0m                 \u001b[1;32mif\u001b[0m \u001b[0mstart\u001b[0m \u001b[1;32mis\u001b[0m \u001b[0mNone\u001b[0m\u001b[1;33m:\u001b[0m \u001b[0mstart\u001b[0m\u001b[1;33m=\u001b[0m\u001b[1;36m0\u001b[0m\u001b[1;33m\u001b[0m\u001b[0m\n",
      "\u001b[1;31mAttributeError\u001b[0m: 'numpy.ndarray' object has no attribute 'step'"
     ]
    }
   ],
   "source": [
    "x_res = p.arange( 0,1, 0.1)\n",
    "y_res = p.arange( 0,1, 0.1)\n",
    "#z_res = p.arange(-1,1,eps)\n",
    "grid = p.mgrid[x_res, y_res]"
   ]
  },
  {
   "cell_type": "code",
   "execution_count": null,
   "metadata": {
    "collapsed": false
   },
   "outputs": [],
   "source": []
  },
  {
   "cell_type": "code",
   "execution_count": 40,
   "metadata": {
    "collapsed": false
   },
   "outputs": [
    {
     "name": "stdout",
     "output_type": "stream",
     "text": [
      "4\n",
      "6\n",
      "2\n",
      "4\n"
     ]
    }
   ],
   "source": [
    "for f in (maxdot(a,a) - a).flat[:]:\n",
    "    print f"
   ]
  },
  {
   "cell_type": "code",
   "execution_count": 71,
   "metadata": {
    "collapsed": false
   },
   "outputs": [
    {
     "data": {
      "text/plain": [
       "array([1, 1, 2, 2])"
      ]
     },
     "execution_count": 71,
     "metadata": {},
     "output_type": "execute_result"
    }
   ],
   "source": [
    "np.array([[1,1],[2,2]]).flat[:]"
   ]
  },
  {
   "cell_type": "code",
   "execution_count": null,
   "metadata": {
    "collapsed": true
   },
   "outputs": [],
   "source": [
    "fig = plt.figure()\n",
    "ax = fig.add_subplot(1,1,1, projection='3d')\n",
    "surf = ax.plot_surface(nullstellen( b, ll = (-1,-1), ru = (1,1), eps = 10e-1))\n",
    "plt.show()"
   ]
  },
  {
   "cell_type": "code",
   "execution_count": 8,
   "metadata": {
    "collapsed": false
   },
   "outputs": [
    {
     "data": {
      "text/plain": [
       "array([[[ 0. ,  0. ,  0. ,  0. ,  0. ,  0. ,  0. ,  0. ,  0. ,  0. ],\n",
       "        [ 0.1,  0.1,  0.1,  0.1,  0.1,  0.1,  0.1,  0.1,  0.1,  0.1],\n",
       "        [ 0.2,  0.2,  0.2,  0.2,  0.2,  0.2,  0.2,  0.2,  0.2,  0.2],\n",
       "        [ 0.3,  0.3,  0.3,  0.3,  0.3,  0.3,  0.3,  0.3,  0.3,  0.3],\n",
       "        [ 0.4,  0.4,  0.4,  0.4,  0.4,  0.4,  0.4,  0.4,  0.4,  0.4],\n",
       "        [ 0.5,  0.5,  0.5,  0.5,  0.5,  0.5,  0.5,  0.5,  0.5,  0.5],\n",
       "        [ 0.6,  0.6,  0.6,  0.6,  0.6,  0.6,  0.6,  0.6,  0.6,  0.6],\n",
       "        [ 0.7,  0.7,  0.7,  0.7,  0.7,  0.7,  0.7,  0.7,  0.7,  0.7],\n",
       "        [ 0.8,  0.8,  0.8,  0.8,  0.8,  0.8,  0.8,  0.8,  0.8,  0.8],\n",
       "        [ 0.9,  0.9,  0.9,  0.9,  0.9,  0.9,  0.9,  0.9,  0.9,  0.9]],\n",
       "\n",
       "       [[ 0. ,  0.1,  0.2,  0.3,  0.4,  0.5,  0.6,  0.7,  0.8,  0.9],\n",
       "        [ 0. ,  0.1,  0.2,  0.3,  0.4,  0.5,  0.6,  0.7,  0.8,  0.9],\n",
       "        [ 0. ,  0.1,  0.2,  0.3,  0.4,  0.5,  0.6,  0.7,  0.8,  0.9],\n",
       "        [ 0. ,  0.1,  0.2,  0.3,  0.4,  0.5,  0.6,  0.7,  0.8,  0.9],\n",
       "        [ 0. ,  0.1,  0.2,  0.3,  0.4,  0.5,  0.6,  0.7,  0.8,  0.9],\n",
       "        [ 0. ,  0.1,  0.2,  0.3,  0.4,  0.5,  0.6,  0.7,  0.8,  0.9],\n",
       "        [ 0. ,  0.1,  0.2,  0.3,  0.4,  0.5,  0.6,  0.7,  0.8,  0.9],\n",
       "        [ 0. ,  0.1,  0.2,  0.3,  0.4,  0.5,  0.6,  0.7,  0.8,  0.9],\n",
       "        [ 0. ,  0.1,  0.2,  0.3,  0.4,  0.5,  0.6,  0.7,  0.8,  0.9],\n",
       "        [ 0. ,  0.1,  0.2,  0.3,  0.4,  0.5,  0.6,  0.7,  0.8,  0.9]]])"
      ]
     },
     "execution_count": 8,
     "metadata": {},
     "output_type": "execute_result"
    }
   ],
   "source": [
    "import numpy as np\n",
    "grid = p.mgrid[0:1:0.1, 0:1:0.1]\n",
    "grid\n"
   ]
  },
  {
   "cell_type": "code",
   "execution_count": 51,
   "metadata": {
    "collapsed": false
   },
   "outputs": [
    {
     "ename": "NameError",
     "evalue": "name 'X' is not defined",
     "output_type": "error",
     "traceback": [
      "\u001b[1;31m---------------------------------------------------------------------------\u001b[0m",
      "\u001b[1;31mNameError\u001b[0m                                 Traceback (most recent call last)",
      "\u001b[1;32m<ipython-input-51-04a8e666ce4d>\u001b[0m in \u001b[0;36m<module>\u001b[1;34m()\u001b[0m\n\u001b[1;32m----> 1\u001b[1;33m \u001b[0mp\u001b[0m\u001b[1;33m.\u001b[0m\u001b[0mzeros_like\u001b[0m\u001b[1;33m(\u001b[0m\u001b[0mX\u001b[0m\u001b[1;33m,\u001b[0m\u001b[0mY\u001b[0m\u001b[1;33m)\u001b[0m\u001b[1;33m\u001b[0m\u001b[0m\n\u001b[0m",
      "\u001b[1;31mNameError\u001b[0m: name 'X' is not defined"
     ]
    }
   ],
   "source": []
  }
 ],
 "metadata": {
  "kernelspec": {
   "display_name": "Python 2",
   "language": "python",
   "name": "python2"
  },
  "language_info": {
   "codemirror_mode": {
    "name": "ipython",
    "version": 2
   },
   "file_extension": ".py",
   "mimetype": "text/x-python",
   "name": "python",
   "nbconvert_exporter": "python",
   "pygments_lexer": "ipython2",
   "version": "2.7.5+"
  }
 },
 "nbformat": 4,
 "nbformat_minor": 0
}
